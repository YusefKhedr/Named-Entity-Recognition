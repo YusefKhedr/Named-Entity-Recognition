{
 "cells": [
  {
   "cell_type": "markdown",
   "metadata": {},
   "source": [
    "# Bi-LSTM for NEEL Dataset\n",
    "\n",
    "### Author: Omer Waseem\n",
    "#### Description: This Python notebook trains and evaluates a Bi-LSTM on the NEEL dataset"
   ]
  },
  {
   "cell_type": "code",
   "execution_count": 1,
   "metadata": {},
   "outputs": [
    {
     "name": "stderr",
     "output_type": "stream",
     "text": [
      "/home/ow/miniconda3/envs/datamgt/lib/python3.6/site-packages/h5py/__init__.py:36: FutureWarning: Conversion of the second argument of issubdtype from `float` to `np.floating` is deprecated. In future, it will be treated as `np.float64 == np.dtype(float).type`.\n",
      "  from ._conv import register_converters as _register_converters\n",
      "Using TensorFlow backend.\n"
     ]
    }
   ],
   "source": [
    "from dataprep import conll_words, neel_words\n",
    "from helper import load_glove_dict, get_glove_vector, accuracy, entity_count, one_hot_encode, one_hot_decode\n",
    "from sklearn.metrics import precision_recall_fscore_support\n",
    "import numpy as np\n",
    "from time import time\n",
    "import matplotlib.pyplot as plt\n",
    "%matplotlib inline\n",
    "\n",
    "from keras.preprocessing import sequence\n",
    "from keras.models import Sequential\n",
    "from keras.layers import Dense, Dropout, Embedding, CuDNNLSTM, Bidirectional\n",
    "from keras.callbacks import TensorBoard"
   ]
  },
  {
   "cell_type": "markdown",
   "metadata": {},
   "source": [
    "### Load all data (training and test) to create a vocabulary dictionary"
   ]
  },
  {
   "cell_type": "code",
   "execution_count": 2,
   "metadata": {
    "collapsed": true
   },
   "outputs": [],
   "source": [
    "n_train_gs_file = './datasets/NEEL2006/training_neel.gs'\n",
    "n_train_tsv_file = './datasets/NEEL2006/training.tsv'\n",
    "n_test_gs_file = './datasets/NEEL2006/test_neel.gs'\n",
    "n_test_tsv_file = './datasets/NEEL2006/test.tsv'\n",
    "\n",
    "n_train_words, n_train_entity, n_train_errors = neel_words(n_train_gs_file, n_train_tsv_file)\n",
    "n_test_words, n_test_entity, n_test_errors = neel_words(n_test_gs_file, n_test_tsv_file)"
   ]
  },
  {
   "cell_type": "code",
   "execution_count": 3,
   "metadata": {
    "collapsed": true
   },
   "outputs": [],
   "source": [
    "combined_words = n_train_words + n_test_words"
   ]
  },
  {
   "cell_type": "code",
   "execution_count": 4,
   "metadata": {},
   "outputs": [
    {
     "name": "stdout",
     "output_type": "stream",
     "text": [
      "69390\n",
      "5408\n",
      "74798\n"
     ]
    }
   ],
   "source": [
    "print(len(n_train_words))\n",
    "print(len(n_test_words))\n",
    "print(len(combined_words))"
   ]
  },
  {
   "cell_type": "markdown",
   "metadata": {},
   "source": [
    "### Create char set, char dictionary and find length of maximum word for padding"
   ]
  },
  {
   "cell_type": "code",
   "execution_count": 5,
   "metadata": {},
   "outputs": [
    {
     "name": "stdout",
     "output_type": "stream",
     "text": [
      "Maximum word length: 82\n"
     ]
    }
   ],
   "source": [
    "char_set = set()\n",
    "char_dict = {}\n",
    "max_word_len = 0\n",
    "for word in combined_words:\n",
    "    if len(word) > max_word_len:\n",
    "        max_word_len = len(word)\n",
    "    for char in word:\n",
    "        char_set.add(char)\n",
    "\n",
    "for i, char in enumerate(char_set):\n",
    "    char_dict[char] = int(i) + 1 # index 0 should not be used in vocab, since its used for masking\n",
    "\n",
    "# ensure index 0 is not used\n",
    "for key in char_dict.keys():\n",
    "    if char_dict[key] == 0:\n",
    "        raise KeyError('Error: index 0 is used with key: ', key)\n",
    "\n",
    "print('Maximum word length:', max_word_len)"
   ]
  },
  {
   "cell_type": "markdown",
   "metadata": {},
   "source": [
    "### Define hyperparameters"
   ]
  },
  {
   "cell_type": "code",
   "execution_count": 6,
   "metadata": {
    "collapsed": true
   },
   "outputs": [],
   "source": [
    "max_features = len(char_set) + 1\n",
    "maxlen = 90\n",
    "batch_size = 128\n",
    "epochs = 10\n",
    "drop_out = 0.5"
   ]
  },
  {
   "cell_type": "markdown",
   "metadata": {},
   "source": [
    "### Convert training and test words into padded int vectors using char dictionary"
   ]
  },
  {
   "cell_type": "code",
   "execution_count": 7,
   "metadata": {
    "collapsed": true
   },
   "outputs": [],
   "source": [
    "def word2vec(words):\n",
    "    out = []\n",
    "    for word in words:\n",
    "        temp = []\n",
    "        for char in word:\n",
    "            temp.append(char_dict[char])\n",
    "        out.append(temp)\n",
    "    return np.array(out)"
   ]
  },
  {
   "cell_type": "code",
   "execution_count": 8,
   "metadata": {
    "collapsed": true
   },
   "outputs": [],
   "source": [
    "train_words = sequence.pad_sequences(word2vec(n_train_words), maxlen=maxlen)\n",
    "test_words = sequence.pad_sequences(word2vec(n_test_words), maxlen=maxlen)"
   ]
  },
  {
   "cell_type": "markdown",
   "metadata": {},
   "source": [
    "### One-Hot encode entities for training and test data"
   ]
  },
  {
   "cell_type": "code",
   "execution_count": 9,
   "metadata": {
    "collapsed": true
   },
   "outputs": [],
   "source": [
    "# one-hot formatting: [PER LOC ORG MISC O]\n",
    "train_entities = one_hot_encode(n_train_entity)\n",
    "test_entities = one_hot_encode(n_test_entity)"
   ]
  },
  {
   "cell_type": "markdown",
   "metadata": {},
   "source": [
    "### Train Bi-LSTM model using Keras"
   ]
  },
  {
   "cell_type": "code",
   "execution_count": 10,
   "metadata": {},
   "outputs": [
    {
     "name": "stdout",
     "output_type": "stream",
     "text": [
      "Train on 69390 samples, validate on 5408 samples\n",
      "Epoch 1/10\n",
      "69390/69390 [==============================] - 32s 456us/step - loss: 0.4176 - acc: 0.8700 - val_loss: 0.4659 - val_acc: 0.8643\n",
      "Epoch 2/10\n",
      "69390/69390 [==============================] - 29s 418us/step - loss: 0.3562 - acc: 0.8849 - val_loss: 0.4609 - val_acc: 0.8654\n",
      "Epoch 3/10\n",
      "69390/69390 [==============================] - 29s 418us/step - loss: 0.3376 - acc: 0.8915 - val_loss: 0.4313 - val_acc: 0.8665\n",
      "Epoch 4/10\n",
      "69390/69390 [==============================] - 29s 419us/step - loss: 0.3169 - acc: 0.8989 - val_loss: 0.4460 - val_acc: 0.8499\n",
      "Epoch 5/10\n",
      "69390/69390 [==============================] - 29s 419us/step - loss: 0.2936 - acc: 0.9075 - val_loss: 0.4417 - val_acc: 0.8539\n",
      "Epoch 6/10\n",
      "69390/69390 [==============================] - 29s 421us/step - loss: 0.2694 - acc: 0.9151 - val_loss: 0.4650 - val_acc: 0.8552\n",
      "Epoch 7/10\n",
      "69390/69390 [==============================] - 29s 422us/step - loss: 0.2446 - acc: 0.9233 - val_loss: 0.4419 - val_acc: 0.8609\n",
      "Epoch 8/10\n",
      "69390/69390 [==============================] - 29s 421us/step - loss: 0.2220 - acc: 0.9304 - val_loss: 0.4687 - val_acc: 0.8548\n",
      "Epoch 9/10\n",
      "69390/69390 [==============================] - 29s 420us/step - loss: 0.1989 - acc: 0.9375 - val_loss: 0.4993 - val_acc: 0.8630\n",
      "Epoch 10/10\n",
      "69390/69390 [==============================] - 29s 421us/step - loss: 0.1809 - acc: 0.9438 - val_loss: 0.4865 - val_acc: 0.8630\n"
     ]
    }
   ],
   "source": [
    "model = Sequential()\n",
    "model.add(Embedding(max_features, 480, input_length=maxlen))\n",
    "model.add(Dropout(drop_out))\n",
    "model.add(Bidirectional(CuDNNLSTM(240, return_sequences = True)))\n",
    "model.add(Bidirectional(CuDNNLSTM(80)))\n",
    "model.add(Dense(5, activation='softmax'))\n",
    "model.compile('adam', 'categorical_crossentropy', metrics=['accuracy'])\n",
    "\n",
    "history = model.fit(train_words, train_entities,\n",
    "          batch_size=batch_size,\n",
    "          epochs=epochs,\n",
    "          validation_data=[test_words, test_entities],\n",
    "          verbose=1)"
   ]
  },
  {
   "cell_type": "markdown",
   "metadata": {},
   "source": [
    "### Plot accuracy and loss"
   ]
  },
  {
   "cell_type": "code",
   "execution_count": 11,
   "metadata": {},
   "outputs": [
    {
     "data": {
      "image/png": "[encoded data removed]",
      "text/plain": [
       "<matplotlib.figure.Figure at 0x7ff0c56c25c0>"
      ]
     },
     "metadata": {},
     "output_type": "display_data"
    }
   ],
   "source": [
    "plt.plot(history.history['acc'])\n",
    "plt.plot(history.history['val_acc'])\n",
    "plt.title('Bi-LSTM Accuracy')\n",
    "plt.ylabel('Accuracy')\n",
    "plt.xlabel('Epochs')\n",
    "plt.xticks(range(epochs))\n",
    "plt.legend(['train', 'Testa'], loc='upper left')\n",
    "plt.show()"
   ]
  },
  {
   "cell_type": "code",
   "execution_count": 12,
   "metadata": {},
   "outputs": [
    {
     "data": {
      "image/png": "[encoded data removed]",
      "text/plain": [
       "<matplotlib.figure.Figure at 0x7ff0b80e1e80>"
      ]
     },
     "metadata": {},
     "output_type": "display_data"
    }
   ],
   "source": [
    "plt.plot(history.history['loss'])\n",
    "plt.plot(history.history['val_loss'])\n",
    "plt.title('Bi-LSTM Loss')\n",
    "plt.ylabel('Loss')\n",
    "plt.xlabel('Epochs')\n",
    "plt.xticks(range(epochs))\n",
    "plt.legend(['Train', 'Testa'], loc='upper right')\n",
    "plt.show()"
   ]
  },
  {
   "cell_type": "markdown",
   "metadata": {
    "collapsed": true
   },
   "source": [
    "### Predict test entities using trained model\n",
    "\n",
    "#### Evaluation for test"
   ]
  },
  {
   "cell_type": "code",
   "execution_count": 13,
   "metadata": {},
   "outputs": [
    {
     "name": "stdout",
     "output_type": "stream",
     "text": [
      "accuracy = 4667 / 5408 = 0.862981\n"
     ]
    }
   ],
   "source": [
    "test_pred = one_hot_decode(model.predict(test_words))\n",
    "accuracy(n_test_entity, test_pred)"
   ]
  },
  {
   "cell_type": "code",
   "execution_count": 14,
   "metadata": {},
   "outputs": [
    {
     "data": {
      "text/plain": [
       "(array([0.23728814, 0.71863118, 0.89551926, 0.37662338, 0.67811159]),\n",
       " array([0.37837838, 0.39049587, 0.98073836, 0.19863014, 0.41578947]),\n",
       " array([0.29166667, 0.5060241 , 0.9361935 , 0.26008969, 0.51549755]),\n",
       " array([  37,  484, 4361,  146,  380]))"
      ]
     },
     "execution_count": 14,
     "metadata": {},
     "output_type": "execute_result"
    }
   ],
   "source": [
    "precision_recall_fscore_support(n_test_entity, test_pred)"
   ]
  },
  {
   "cell_type": "code",
   "execution_count": 15,
   "metadata": {},
   "outputs": [
    {
     "name": "stdout",
     "output_type": "stream",
     "text": [
      "ORG: 146\n",
      "PER: 380\n",
      "LOC: 37\n",
      "MISC: 484\n",
      "O: 4361\n"
     ]
    }
   ],
   "source": [
    "entity_count(n_test_entity)"
   ]
  },
  {
   "cell_type": "code",
   "execution_count": null,
   "metadata": {
    "collapsed": true
   },
   "outputs": [],
   "source": []
  }
 ],
 "metadata": {
  "kernelspec": {
   "display_name": "Python 3",
   "language": "python",
   "name": "python3"
  },
  "language_info": {
   "codemirror_mode": {
    "name": "ipython",
    "version": 3
   },
   "file_extension": ".py",
   "mimetype": "text/x-python",
   "name": "python",
   "nbconvert_exporter": "python",
   "pygments_lexer": "ipython3",
   "version": "3.6.2"
  }
 },
 "nbformat": 4,
 "nbformat_minor": 2
}
