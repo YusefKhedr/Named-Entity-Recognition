{
 "cells": [
  {
   "cell_type": "markdown",
   "metadata": {},
   "source": [
    "# Bi-LSTM for CoNLL Dataset\n",
    "\n",
    "### Author: Omer Waseem\n",
    "#### Description: This Python notebook trains and evaluates a Bi-LSTM on the CoNLL dataset"
   ]
  },
  {
   "cell_type": "code",
   "execution_count": 1,
   "metadata": {},
   "outputs": [
    {
     "name": "stderr",
     "output_type": "stream",
     "text": [
      "/home/ow/miniconda3/envs/datamgt/lib/python3.6/site-packages/h5py/__init__.py:36: FutureWarning: Conversion of the second argument of issubdtype from `float` to `np.floating` is deprecated. In future, it will be treated as `np.float64 == np.dtype(float).type`.\n",
      "  from ._conv import register_converters as _register_converters\n",
      "Using TensorFlow backend.\n"
     ]
    }
   ],
   "source": [
    "from dataprep import conll_words, neel_words\n",
    "from helper import load_glove_dict, get_glove_vector, accuracy, entity_count, one_hot_encode, one_hot_decode\n",
    "from sklearn.metrics import precision_recall_fscore_support\n",
    "import numpy as np\n",
    "from time import time\n",
    "import matplotlib.pyplot as plt\n",
    "%matplotlib inline\n",
    "\n",
    "from keras.preprocessing import sequence\n",
    "from keras.models import Sequential\n",
    "from keras.layers import Dense, Dropout, Embedding, CuDNNLSTM, Bidirectional\n",
    "from keras.callbacks import TensorBoard"
   ]
  },
  {
   "cell_type": "markdown",
   "metadata": {},
   "source": [
    "### Load all data (training and test) to create a vocabulary dictionary"
   ]
  },
  {
   "cell_type": "code",
   "execution_count": 2,
   "metadata": {
    "collapsed": true
   },
   "outputs": [],
   "source": [
    "c_train_file = './datasets/CoNLL2003/eng.train'\n",
    "c_testa_file = './datasets/CoNLL2003/eng.testa'\n",
    "c_testb_file = './datasets/CoNLL2003/eng.testb'\n",
    "c_testc_file = './datasets/CoNLL2003/eng.testc'\n",
    "\n",
    "c_train_words, c_train_pos, c_train_chunk, c_train_entity = conll_words(c_train_file)\n",
    "c_testa_words, c_testa_pos, c_testa_chunk, c_testa_entity = conll_words(c_testa_file)\n",
    "c_testb_words, c_testb_pos, c_testb_chunk, c_testb_entity = conll_words(c_testb_file)\n",
    "c_testc_words, c_testc_pos, c_testc_chunk, c_testc_entity = conll_words(c_testc_file)"
   ]
  },
  {
   "cell_type": "code",
   "execution_count": 3,
   "metadata": {
    "collapsed": true
   },
   "outputs": [],
   "source": [
    "combined_words = c_train_words + c_testa_words + c_testb_words + c_testc_words"
   ]
  },
  {
   "cell_type": "code",
   "execution_count": 4,
   "metadata": {},
   "outputs": [
    {
     "name": "stdout",
     "output_type": "stream",
     "text": [
      "203621\n",
      "51362\n",
      "46435\n",
      "35\n",
      "301453\n"
     ]
    }
   ],
   "source": [
    "print(len(c_train_words))\n",
    "print(len(c_testa_words))\n",
    "print(len(c_testb_words))\n",
    "print(len(c_testc_words))\n",
    "print(len(combined_words))"
   ]
  },
  {
   "cell_type": "markdown",
   "metadata": {},
   "source": [
    "### Create char set, char dictionary and find length of maximum word for padding"
   ]
  },
  {
   "cell_type": "code",
   "execution_count": 5,
   "metadata": {},
   "outputs": [
    {
     "name": "stdout",
     "output_type": "stream",
     "text": [
      "Maximum word length: 61\n"
     ]
    }
   ],
   "source": [
    "char_set = set()\n",
    "char_dict = {}\n",
    "max_word_len = 0\n",
    "for word in combined_words:\n",
    "    if len(word) > max_word_len:\n",
    "        max_word_len = len(word)\n",
    "    for char in word:\n",
    "        char_set.add(char)\n",
    "\n",
    "for i, char in enumerate(char_set):\n",
    "    char_dict[char] = int(i) + 1 # index 0 should not be used in vocab, since its used for masking\n",
    "\n",
    "# ensure index 0 is not used\n",
    "for key in char_dict.keys():\n",
    "    if char_dict[key] == 0:\n",
    "        raise KeyError('Error: index 0 is used with key: ', key)\n",
    "\n",
    "print('Maximum word length:', max_word_len)"
   ]
  },
  {
   "cell_type": "markdown",
   "metadata": {},
   "source": [
    "### Define hyperparameters"
   ]
  },
  {
   "cell_type": "markdown",
   "metadata": {},
   "source": [
    "#### val_acc: 0.9566 on testa\n",
    "max_features = len(char_set) + 1  \n",
    "maxlen = 70  \n",
    "batch_size = 32  \n",
    "epochs = 20  \n",
    "drop_out = 0.5  "
   ]
  },
  {
   "cell_type": "code",
   "execution_count": 6,
   "metadata": {
    "collapsed": true
   },
   "outputs": [],
   "source": [
    "max_features = len(char_set) + 1\n",
    "maxlen = 70\n",
    "batch_size = 256\n",
    "epochs = 60\n",
    "drop_out = 0.5"
   ]
  },
  {
   "cell_type": "markdown",
   "metadata": {},
   "source": [
    "### Convert training and test words into padded int vectors using char dictionary"
   ]
  },
  {
   "cell_type": "code",
   "execution_count": 7,
   "metadata": {
    "collapsed": true
   },
   "outputs": [],
   "source": [
    "def word2vec(words):\n",
    "    out = []\n",
    "    for word in words:\n",
    "        temp = []\n",
    "        for char in word:\n",
    "            temp.append(char_dict[char])\n",
    "        out.append(temp)\n",
    "    return np.array(out)"
   ]
  },
  {
   "cell_type": "code",
   "execution_count": 8,
   "metadata": {
    "collapsed": true
   },
   "outputs": [],
   "source": [
    "train_words = sequence.pad_sequences(word2vec(c_train_words), maxlen=maxlen)\n",
    "testa_words = sequence.pad_sequences(word2vec(c_testa_words), maxlen=maxlen)\n",
    "testb_words = sequence.pad_sequences(word2vec(c_testb_words), maxlen=maxlen)\n",
    "testc_words = sequence.pad_sequences(word2vec(c_testc_words), maxlen=maxlen)"
   ]
  },
  {
   "cell_type": "markdown",
   "metadata": {},
   "source": [
    "### One-Hot encode entities for training and test data"
   ]
  },
  {
   "cell_type": "code",
   "execution_count": 9,
   "metadata": {
    "collapsed": true
   },
   "outputs": [],
   "source": [
    "# one-hot formatting: [PER LOC ORG MISC O]\n",
    "train_entities = one_hot_encode(c_train_entity)\n",
    "testa_entities = one_hot_encode(c_testa_entity)\n",
    "testb_entities = one_hot_encode(c_testb_entity)\n",
    "testc_entities = one_hot_encode(c_testc_entity)"
   ]
  },
  {
   "cell_type": "markdown",
   "metadata": {},
   "source": [
    "### Train Bi-LSTM model using Keras"
   ]
  },
  {
   "cell_type": "code",
   "execution_count": 10,
   "metadata": {},
   "outputs": [
    {
     "name": "stdout",
     "output_type": "stream",
     "text": [
      "Train on 203621 samples, validate on 51362 samples\n",
      "Epoch 1/60\n",
      "203621/203621 [==============================] - 67s 330us/step - loss: 0.3481 - acc: 0.8676 - val_loss: 0.2859 - val_acc: 0.8947\n",
      "Epoch 2/60\n",
      "203621/203621 [==============================] - 64s 314us/step - loss: 0.2789 - acc: 0.8973 - val_loss: 0.2464 - val_acc: 0.9178\n",
      "Epoch 3/60\n",
      "203621/203621 [==============================] - 64s 315us/step - loss: 0.2423 - acc: 0.9141 - val_loss: 0.2165 - val_acc: 0.9276\n",
      "Epoch 4/60\n",
      "203621/203621 [==============================] - 64s 315us/step - loss: 0.2101 - acc: 0.9285 - val_loss: 0.1915 - val_acc: 0.9373\n",
      "Epoch 5/60\n",
      "203621/203621 [==============================] - 65s 317us/step - loss: 0.1826 - acc: 0.9398 - val_loss: 0.1787 - val_acc: 0.9426\n",
      "Epoch 6/60\n",
      "203621/203621 [==============================] - 64s 317us/step - loss: 0.1585 - acc: 0.9492 - val_loss: 0.1629 - val_acc: 0.9492\n",
      "Epoch 7/60\n",
      "203621/203621 [==============================] - 64s 317us/step - loss: 0.1387 - acc: 0.9567 - val_loss: 0.1615 - val_acc: 0.9508\n",
      "Epoch 8/60\n",
      "203621/203621 [==============================] - 64s 316us/step - loss: 0.1246 - acc: 0.9618 - val_loss: 0.1574 - val_acc: 0.9547\n",
      "Epoch 9/60\n",
      "203621/203621 [==============================] - 64s 316us/step - loss: 0.1127 - acc: 0.9660 - val_loss: 0.1527 - val_acc: 0.9570\n",
      "Epoch 10/60\n",
      "203621/203621 [==============================] - 64s 317us/step - loss: 0.1047 - acc: 0.9686 - val_loss: 0.1540 - val_acc: 0.9566\n",
      "Epoch 11/60\n",
      "203621/203621 [==============================] - 64s 316us/step - loss: 0.0961 - acc: 0.9709 - val_loss: 0.1575 - val_acc: 0.9569\n",
      "Epoch 12/60\n",
      "203621/203621 [==============================] - 64s 316us/step - loss: 0.0927 - acc: 0.9717 - val_loss: 0.1579 - val_acc: 0.9564\n",
      "Epoch 13/60\n",
      "203621/203621 [==============================] - 64s 317us/step - loss: 0.0860 - acc: 0.9740 - val_loss: 0.1577 - val_acc: 0.9588\n",
      "Epoch 14/60\n",
      "203621/203621 [==============================] - 65s 317us/step - loss: 0.0848 - acc: 0.9737 - val_loss: 0.1603 - val_acc: 0.9579\n",
      "Epoch 15/60\n",
      "203621/203621 [==============================] - 64s 316us/step - loss: 0.0798 - acc: 0.9751 - val_loss: 0.1601 - val_acc: 0.9594\n",
      "Epoch 16/60\n",
      "203621/203621 [==============================] - 65s 317us/step - loss: 0.0761 - acc: 0.9760 - val_loss: 0.1663 - val_acc: 0.9593\n",
      "Epoch 17/60\n",
      "203621/203621 [==============================] - 64s 317us/step - loss: 0.0747 - acc: 0.9765 - val_loss: 0.1678 - val_acc: 0.9587\n",
      "Epoch 18/60\n",
      "203621/203621 [==============================] - 65s 317us/step - loss: 0.0727 - acc: 0.9767 - val_loss: 0.1739 - val_acc: 0.9596\n",
      "Epoch 19/60\n",
      "203621/203621 [==============================] - 64s 317us/step - loss: 0.0701 - acc: 0.9776 - val_loss: 0.1802 - val_acc: 0.9583\n",
      "Epoch 20/60\n",
      "203621/203621 [==============================] - 64s 316us/step - loss: 0.0696 - acc: 0.9772 - val_loss: 0.1778 - val_acc: 0.9599\n",
      "Epoch 21/60\n",
      "203621/203621 [==============================] - 64s 317us/step - loss: 0.0685 - acc: 0.9778 - val_loss: 0.1786 - val_acc: 0.9599\n",
      "Epoch 22/60\n",
      "203621/203621 [==============================] - 64s 317us/step - loss: 0.0677 - acc: 0.9784 - val_loss: 0.1781 - val_acc: 0.9589\n",
      "Epoch 23/60\n",
      "203621/203621 [==============================] - 64s 316us/step - loss: 0.0668 - acc: 0.9784 - val_loss: 0.1866 - val_acc: 0.9589\n",
      "Epoch 24/60\n",
      "203621/203621 [==============================] - 64s 317us/step - loss: 0.0643 - acc: 0.9791 - val_loss: 0.1853 - val_acc: 0.9604\n",
      "Epoch 25/60\n",
      "203621/203621 [==============================] - 65s 317us/step - loss: 0.0635 - acc: 0.9793 - val_loss: 0.1842 - val_acc: 0.9608\n",
      "Epoch 26/60\n",
      "203621/203621 [==============================] - 64s 316us/step - loss: 0.0638 - acc: 0.9789 - val_loss: 0.1801 - val_acc: 0.9596\n",
      "Epoch 27/60\n",
      "203621/203621 [==============================] - 64s 317us/step - loss: 0.0646 - acc: 0.9787 - val_loss: 0.1921 - val_acc: 0.9588\n",
      "Epoch 28/60\n",
      "203621/203621 [==============================] - 64s 316us/step - loss: 0.0638 - acc: 0.9789 - val_loss: 0.1810 - val_acc: 0.9602\n",
      "Epoch 29/60\n",
      "203621/203621 [==============================] - 65s 317us/step - loss: 0.0618 - acc: 0.9795 - val_loss: 0.1901 - val_acc: 0.9597\n",
      "Epoch 30/60\n",
      "203621/203621 [==============================] - 64s 317us/step - loss: 0.0614 - acc: 0.9793 - val_loss: 0.1935 - val_acc: 0.9600\n",
      "Epoch 31/60\n",
      "203621/203621 [==============================] - 64s 316us/step - loss: 0.0596 - acc: 0.9802 - val_loss: 0.1980 - val_acc: 0.9609\n",
      "Epoch 32/60\n",
      "203621/203621 [==============================] - 64s 316us/step - loss: 0.0628 - acc: 0.9794 - val_loss: 0.1905 - val_acc: 0.9591\n",
      "Epoch 33/60\n",
      "203621/203621 [==============================] - 64s 315us/step - loss: 0.0604 - acc: 0.9796 - val_loss: 0.1958 - val_acc: 0.9605\n",
      "Epoch 34/60\n",
      "203621/203621 [==============================] - 64s 315us/step - loss: 0.0601 - acc: 0.9800 - val_loss: 0.2032 - val_acc: 0.9591\n",
      "Epoch 35/60\n",
      "203621/203621 [==============================] - 64s 315us/step - loss: 0.0598 - acc: 0.9799 - val_loss: 0.2061 - val_acc: 0.9605\n",
      "Epoch 36/60\n",
      "203621/203621 [==============================] - 64s 316us/step - loss: 0.0598 - acc: 0.9798 - val_loss: 0.1951 - val_acc: 0.9593\n",
      "Epoch 37/60\n",
      "203621/203621 [==============================] - 64s 317us/step - loss: 0.0603 - acc: 0.9796 - val_loss: 0.1987 - val_acc: 0.9593\n",
      "Epoch 38/60\n",
      "203621/203621 [==============================] - 64s 317us/step - loss: 0.0585 - acc: 0.9802 - val_loss: 0.2020 - val_acc: 0.9600\n",
      "Epoch 39/60\n",
      "203621/203621 [==============================] - 64s 316us/step - loss: 0.0591 - acc: 0.9802 - val_loss: 0.2050 - val_acc: 0.9601\n",
      "Epoch 40/60\n",
      "203621/203621 [==============================] - 64s 317us/step - loss: 0.0574 - acc: 0.9806 - val_loss: 0.2095 - val_acc: 0.9607\n",
      "Epoch 41/60\n",
      "203621/203621 [==============================] - 64s 316us/step - loss: 0.0595 - acc: 0.9800 - val_loss: 0.2007 - val_acc: 0.9595\n",
      "Epoch 42/60\n",
      "203621/203621 [==============================] - 64s 317us/step - loss: 0.0595 - acc: 0.9797 - val_loss: 0.2018 - val_acc: 0.9600\n",
      "Epoch 43/60\n",
      "203621/203621 [==============================] - 64s 317us/step - loss: 0.0573 - acc: 0.9807 - val_loss: 0.1952 - val_acc: 0.9611\n",
      "Epoch 44/60\n",
      "203621/203621 [==============================] - 64s 316us/step - loss: 0.0584 - acc: 0.9804 - val_loss: 0.2047 - val_acc: 0.9600\n",
      "Epoch 45/60\n",
      "203621/203621 [==============================] - 64s 316us/step - loss: 0.0561 - acc: 0.9808 - val_loss: 0.2073 - val_acc: 0.9592\n",
      "Epoch 46/60\n",
      "203621/203621 [==============================] - 64s 316us/step - loss: 0.0560 - acc: 0.9808 - val_loss: 0.2050 - val_acc: 0.9591\n",
      "Epoch 47/60\n",
      "203621/203621 [==============================] - 64s 316us/step - loss: 0.0590 - acc: 0.9802 - val_loss: 0.2104 - val_acc: 0.9600\n",
      "Epoch 48/60\n",
      "203621/203621 [==============================] - 64s 316us/step - loss: 0.0577 - acc: 0.9802 - val_loss: 0.2057 - val_acc: 0.9609\n",
      "Epoch 49/60\n",
      "203621/203621 [==============================] - 65s 317us/step - loss: 0.0555 - acc: 0.9810 - val_loss: 0.2155 - val_acc: 0.9595\n",
      "Epoch 50/60\n",
      "203621/203621 [==============================] - 64s 316us/step - loss: 0.0578 - acc: 0.9804 - val_loss: 0.2090 - val_acc: 0.9607\n",
      "Epoch 51/60\n",
      "203621/203621 [==============================] - 64s 316us/step - loss: 0.0582 - acc: 0.9803 - val_loss: 0.2072 - val_acc: 0.9600\n",
      "Epoch 52/60\n",
      "203621/203621 [==============================] - 64s 316us/step - loss: 0.0557 - acc: 0.9810 - val_loss: 0.2194 - val_acc: 0.9609\n",
      "Epoch 53/60\n",
      "203621/203621 [==============================] - 64s 316us/step - loss: 0.0559 - acc: 0.9811 - val_loss: 0.2160 - val_acc: 0.9607\n",
      "Epoch 54/60\n",
      "203621/203621 [==============================] - 64s 316us/step - loss: 0.0540 - acc: 0.9814 - val_loss: 0.2204 - val_acc: 0.9607\n",
      "Epoch 55/60\n",
      "203621/203621 [==============================] - 64s 316us/step - loss: 0.0549 - acc: 0.9811 - val_loss: 0.2172 - val_acc: 0.9603\n",
      "Epoch 56/60\n",
      "203621/203621 [==============================] - 64s 316us/step - loss: 0.0605 - acc: 0.9795 - val_loss: 0.2111 - val_acc: 0.9605\n",
      "Epoch 57/60\n",
      "203621/203621 [==============================] - 64s 316us/step - loss: 0.0573 - acc: 0.9805 - val_loss: 0.2072 - val_acc: 0.9607\n",
      "Epoch 58/60\n",
      "203621/203621 [==============================] - 65s 317us/step - loss: 0.0560 - acc: 0.9808 - val_loss: 0.2123 - val_acc: 0.9602\n",
      "Epoch 59/60\n",
      "203621/203621 [==============================] - 64s 316us/step - loss: 0.0554 - acc: 0.9810 - val_loss: 0.2120 - val_acc: 0.9616\n",
      "Epoch 60/60\n",
      "203621/203621 [==============================] - 64s 316us/step - loss: 0.0538 - acc: 0.9813 - val_loss: 0.2205 - val_acc: 0.9609\n"
     ]
    }
   ],
   "source": [
    "model = Sequential()\n",
    "model.add(Embedding(max_features, 360, input_length=maxlen))\n",
    "model.add(Bidirectional(CuDNNLSTM(180, return_sequences=True)))\n",
    "model.add(Bidirectional(CuDNNLSTM(90, return_sequences=True)))\n",
    "model.add(Bidirectional(CuDNNLSTM(40)))\n",
    "model.add(Dropout(drop_out))\n",
    "model.add(Dense(5, activation='softmax'))\n",
    "model.compile('adam', 'categorical_crossentropy', metrics=['accuracy'])\n",
    "\n",
    "history = model.fit(train_words, train_entities,\n",
    "          batch_size=batch_size,\n",
    "          epochs=epochs,\n",
    "          validation_data=[testa_words, testa_entities],\n",
    "          verbose=1)"
   ]
  },
  {
   "cell_type": "markdown",
   "metadata": {},
   "source": [
    "### Plot accuracy and loss"
   ]
  },
  {
   "cell_type": "code",
   "execution_count": 22,
   "metadata": {},
   "outputs": [
    {
     "data": {
      "image/png": "[encoded data removed]",
      "text/plain": [
       "<matplotlib.figure.Figure at 0x7f152c587a20>"
      ]
     },
     "metadata": {},
     "output_type": "display_data"
    }
   ],
   "source": [
    "plt.plot(history.history['acc'])\n",
    "plt.plot(history.history['val_acc'])\n",
    "plt.title('Bi-LSTM Accuracy')\n",
    "plt.ylabel('Accuracy')\n",
    "plt.xlabel('Epochs')\n",
    "#plt.xticks(range(epochs))\n",
    "plt.legend(['train', 'Testa'], loc='upper left')\n",
    "plt.show()"
   ]
  },
  {
   "cell_type": "code",
   "execution_count": 23,
   "metadata": {},
   "outputs": [
    {
     "data": {
      "image/png": "[encoded data removed]",
      "text/plain": [
       "<matplotlib.figure.Figure at 0x7f152c58f710>"
      ]
     },
     "metadata": {},
     "output_type": "display_data"
    }
   ],
   "source": [
    "plt.plot(history.history['loss'])\n",
    "plt.plot(history.history['val_loss'])\n",
    "plt.title('Bi-LSTM Loss')\n",
    "plt.ylabel('Loss')\n",
    "plt.xlabel('Epochs')\n",
    "#plt.xticks(range(epochs))\n",
    "plt.legend(['Train', 'Testa'], loc='upper right')\n",
    "plt.show()"
   ]
  },
  {
   "cell_type": "markdown",
   "metadata": {
    "collapsed": true
   },
   "source": [
    "### Predict test entities using trained model\n",
    "\n",
    "#### Evaluation for testa"
   ]
  },
  {
   "cell_type": "code",
   "execution_count": 13,
   "metadata": {},
   "outputs": [
    {
     "name": "stdout",
     "output_type": "stream",
     "text": [
      "accuracy = 49356 / 51362 = 0.960944\n"
     ]
    }
   ],
   "source": [
    "testa_pred = one_hot_decode(model.predict(testa_words))\n",
    "accuracy(c_testa_entity, testa_pred)"
   ]
  },
  {
   "cell_type": "code",
   "execution_count": 14,
   "metadata": {},
   "outputs": [
    {
     "data": {
      "text/plain": [
       "(array([0.80880265, 0.84380776, 0.98936863, 0.7235732 , 0.86765635]),\n",
       " array([0.81614136, 0.72003155, 0.99462102, 0.69694073, 0.87234043]),\n",
       " array([0.81245543, 0.77702128, 0.99198787, 0.7100073 , 0.86999208]),\n",
       " array([ 2094,  1268, 42759,  2092,  3149]))"
      ]
     },
     "execution_count": 14,
     "metadata": {},
     "output_type": "execute_result"
    }
   ],
   "source": [
    "precision_recall_fscore_support(c_testa_entity, testa_pred)"
   ]
  },
  {
   "cell_type": "code",
   "execution_count": 15,
   "metadata": {},
   "outputs": [
    {
     "name": "stdout",
     "output_type": "stream",
     "text": [
      "ORG: 2092\n",
      "PER: 3149\n",
      "LOC: 2094\n",
      "MISC: 1268\n",
      "O: 42759\n"
     ]
    }
   ],
   "source": [
    "entity_count(c_testa_entity)"
   ]
  },
  {
   "cell_type": "markdown",
   "metadata": {},
   "source": [
    "#### Evaluation for testb"
   ]
  },
  {
   "cell_type": "code",
   "execution_count": 16,
   "metadata": {},
   "outputs": [
    {
     "name": "stdout",
     "output_type": "stream",
     "text": [
      "accuracy = 43744 / 46435 = 0.942048\n"
     ]
    }
   ],
   "source": [
    "testb_pred = one_hot_decode(model.predict(testb_words))\n",
    "accuracy(c_testb_entity, testb_pred)"
   ]
  },
  {
   "cell_type": "code",
   "execution_count": 17,
   "metadata": {},
   "outputs": [
    {
     "data": {
      "text/plain": [
       "(array([0.71022467, 0.70338983, 0.98604409, 0.67072148, 0.82284832]),\n",
       " array([0.80467532, 0.72331155, 0.98635284, 0.640625  , 0.76884241]),\n",
       " array([0.7545056 , 0.7132116 , 0.98619844, 0.65532787, 0.79492916]),\n",
       " array([ 1925,   918, 38323,  2496,  2773]))"
      ]
     },
     "execution_count": 17,
     "metadata": {},
     "output_type": "execute_result"
    }
   ],
   "source": [
    "precision_recall_fscore_support(c_testb_entity, testb_pred)"
   ]
  },
  {
   "cell_type": "code",
   "execution_count": 18,
   "metadata": {},
   "outputs": [
    {
     "name": "stdout",
     "output_type": "stream",
     "text": [
      "ORG: 2496\n",
      "PER: 2773\n",
      "LOC: 1925\n",
      "MISC: 918\n",
      "O: 38323\n"
     ]
    }
   ],
   "source": [
    "entity_count(c_testb_entity)"
   ]
  },
  {
   "cell_type": "markdown",
   "metadata": {},
   "source": [
    "#### Evaluation for testc"
   ]
  },
  {
   "cell_type": "code",
   "execution_count": 19,
   "metadata": {},
   "outputs": [
    {
     "name": "stdout",
     "output_type": "stream",
     "text": [
      "accuracy = 34 / 35 = 0.971429\n"
     ]
    }
   ],
   "source": [
    "testc_pred = one_hot_decode(model.predict(testc_words))\n",
    "accuracy(c_testc_entity, testc_pred)"
   ]
  },
  {
   "cell_type": "code",
   "execution_count": 20,
   "metadata": {},
   "outputs": [
    {
     "name": "stderr",
     "output_type": "stream",
     "text": [
      "/home/ow/miniconda3/envs/datamgt/lib/python3.6/site-packages/sklearn/metrics/classification.py:1137: UndefinedMetricWarning: Recall and F-score are ill-defined and being set to 0.0 in labels with no true samples.\n",
      "  'recall', 'true', average, warn_for)\n"
     ]
    },
    {
     "data": {
      "text/plain": [
       "(array([0., 1., 1., 1., 1.]),\n",
       " array([0. , 0.5, 1. , 1. , 1. ]),\n",
       " array([0.        , 0.66666667, 1.        , 1.        , 1.        ]),\n",
       " array([ 0,  2, 29,  2,  2]))"
      ]
     },
     "execution_count": 20,
     "metadata": {},
     "output_type": "execute_result"
    }
   ],
   "source": [
    "precision_recall_fscore_support(c_testc_entity, testc_pred)"
   ]
  },
  {
   "cell_type": "code",
   "execution_count": 21,
   "metadata": {},
   "outputs": [
    {
     "name": "stdout",
     "output_type": "stream",
     "text": [
      "ORG: 2\n",
      "PER: 2\n",
      "LOC: 0\n",
      "MISC: 2\n",
      "O: 29\n"
     ]
    }
   ],
   "source": [
    "entity_count(c_testc_entity)"
   ]
  },
  {
   "cell_type": "code",
   "execution_count": null,
   "metadata": {
    "collapsed": true
   },
   "outputs": [],
   "source": []
  }
 ],
 "metadata": {
  "kernelspec": {
   "display_name": "Python 3",
   "language": "python",
   "name": "python3"
  },
  "language_info": {
   "codemirror_mode": {
    "name": "ipython",
    "version": 3
   },
   "file_extension": ".py",
   "mimetype": "text/x-python",
   "name": "python",
   "nbconvert_exporter": "python",
   "pygments_lexer": "ipython3",
   "version": "3.6.2"
  }
 },
 "nbformat": 4,
 "nbformat_minor": 2
}
