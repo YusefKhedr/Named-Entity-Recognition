{
 "cells": [
  {
   "cell_type": "markdown",
   "metadata": {},
   "source": [
    "# Bi-LSTM for CoNLL Dataset (with GloVe)\n",
    "\n",
    "### Author: Omer Waseem\n",
    "#### Description: This Python notebook trains and evaluates a Bi-LSTM on the CoNLL dataset using GloVe features"
   ]
  },
  {
   "cell_type": "code",
   "execution_count": 1,
   "metadata": {},
   "outputs": [
    {
     "name": "stderr",
     "output_type": "stream",
     "text": [
      "/home/ow/miniconda3/envs/datamgt/lib/python3.6/site-packages/h5py/__init__.py:36: FutureWarning: Conversion of the second argument of issubdtype from `float` to `np.floating` is deprecated. In future, it will be treated as `np.float64 == np.dtype(float).type`.\n",
      "  from ._conv import register_converters as _register_converters\n",
      "Using TensorFlow backend.\n"
     ]
    }
   ],
   "source": [
    "from dataprep import conll_words, neel_words\n",
    "from helper import load_glove_dict, get_glove_vector, accuracy, entity_count, one_hot_encode, one_hot_decode\n",
    "from sklearn.metrics import precision_recall_fscore_support\n",
    "import numpy as np\n",
    "from time import time\n",
    "import matplotlib.pyplot as plt\n",
    "%matplotlib inline\n",
    "\n",
    "from keras.preprocessing import sequence\n",
    "from keras.models import Sequential\n",
    "from keras.layers import Dense, Dropout, Embedding, CuDNNLSTM, Bidirectional\n",
    "from keras.callbacks import TensorBoard"
   ]
  },
  {
   "cell_type": "markdown",
   "metadata": {},
   "source": [
    "### Load GloVe features"
   ]
  },
  {
   "cell_type": "code",
   "execution_count": 2,
   "metadata": {
    "collapsed": true
   },
   "outputs": [],
   "source": [
    "g_file = '../glove/glove.twitter.27B.50d.txt'\n",
    "g_dict = load_glove_dict(g_file)"
   ]
  },
  {
   "cell_type": "markdown",
   "metadata": {},
   "source": [
    "### Load all data (training and test) to create a vocabulary dictionary"
   ]
  },
  {
   "cell_type": "code",
   "execution_count": 3,
   "metadata": {
    "collapsed": true
   },
   "outputs": [],
   "source": [
    "c_train_file = './datasets/CoNLL2003/eng.train'\n",
    "c_testa_file = './datasets/CoNLL2003/eng.testa'\n",
    "c_testb_file = './datasets/CoNLL2003/eng.testb'\n",
    "c_testc_file = './datasets/CoNLL2003/eng.testc'\n",
    "\n",
    "c_train_words, c_train_pos, c_train_chunk, c_train_entity = conll_words(c_train_file)\n",
    "c_testa_words, c_testa_pos, c_testa_chunk, c_testa_entity = conll_words(c_testa_file)\n",
    "c_testb_words, c_testb_pos, c_testb_chunk, c_testb_entity = conll_words(c_testb_file)\n",
    "c_testc_words, c_testc_pos, c_testc_chunk, c_testc_entity = conll_words(c_testc_file)"
   ]
  },
  {
   "cell_type": "code",
   "execution_count": 4,
   "metadata": {
    "collapsed": true
   },
   "outputs": [],
   "source": [
    "combined_words = c_train_words + c_testa_words + c_testb_words + c_testc_words"
   ]
  },
  {
   "cell_type": "code",
   "execution_count": 5,
   "metadata": {},
   "outputs": [
    {
     "name": "stdout",
     "output_type": "stream",
     "text": [
      "203621\n",
      "51362\n",
      "46435\n",
      "35\n",
      "301453\n"
     ]
    }
   ],
   "source": [
    "print(len(c_train_words))\n",
    "print(len(c_testa_words))\n",
    "print(len(c_testb_words))\n",
    "print(len(c_testc_words))\n",
    "print(len(combined_words))"
   ]
  },
  {
   "cell_type": "markdown",
   "metadata": {},
   "source": [
    "### Create char set, char dictionary and find length of maximum word for padding"
   ]
  },
  {
   "cell_type": "code",
   "execution_count": 6,
   "metadata": {},
   "outputs": [
    {
     "name": "stdout",
     "output_type": "stream",
     "text": [
      "Maximum word length: 61\n"
     ]
    }
   ],
   "source": [
    "char_set = set()\n",
    "char_dict = {}\n",
    "max_word_len = 0\n",
    "for word in combined_words:\n",
    "    if len(word) > max_word_len:\n",
    "        max_word_len = len(word)\n",
    "    for char in word:\n",
    "        char_set.add(char)\n",
    "\n",
    "for i, char in enumerate(char_set):\n",
    "    char_dict[char] = int(i) + 1 # index 0 should not be used in vocab, since its used for masking\n",
    "\n",
    "# ensure index 0 is not used\n",
    "for key in char_dict.keys():\n",
    "    if char_dict[key] == 0:\n",
    "        raise KeyError('Error: index 0 is used with key: ', key)\n",
    "\n",
    "print('Maximum word length:', max_word_len)"
   ]
  },
  {
   "cell_type": "markdown",
   "metadata": {},
   "source": [
    "### Define hyperparameters"
   ]
  },
  {
   "cell_type": "markdown",
   "metadata": {},
   "source": [
    "#### val_acc: 0.9566 on testa\n",
    "max_features = len(char_set) + 1  \n",
    "maxlen = 70  \n",
    "batch_size = 32  \n",
    "epochs = 20  \n",
    "drop_out = 0.5  "
   ]
  },
  {
   "cell_type": "code",
   "execution_count": 7,
   "metadata": {
    "collapsed": true
   },
   "outputs": [],
   "source": [
    "max_features = len(char_set) + 1\n",
    "maxlen = 70\n",
    "glove_len = 50\n",
    "batch_size = 256\n",
    "epochs = 60\n",
    "drop_out = 0.5"
   ]
  },
  {
   "cell_type": "markdown",
   "metadata": {},
   "source": [
    "### Convert training and test words into padded int vectors using char dictionary"
   ]
  },
  {
   "cell_type": "code",
   "execution_count": 8,
   "metadata": {
    "collapsed": true
   },
   "outputs": [],
   "source": [
    "def word2vec(words):\n",
    "    out = []\n",
    "    for word in words:\n",
    "        temp = []\n",
    "        for char in word:\n",
    "            temp.append(char_dict[char])\n",
    "        out.append(temp)\n",
    "    return np.array(out)"
   ]
  },
  {
   "cell_type": "code",
   "execution_count": 9,
   "metadata": {
    "collapsed": true
   },
   "outputs": [],
   "source": [
    "train_words = sequence.pad_sequences(word2vec(c_train_words), maxlen=maxlen)\n",
    "testa_words = sequence.pad_sequences(word2vec(c_testa_words), maxlen=maxlen)\n",
    "testb_words = sequence.pad_sequences(word2vec(c_testb_words), maxlen=maxlen)\n",
    "testc_words = sequence.pad_sequences(word2vec(c_testc_words), maxlen=maxlen)"
   ]
  },
  {
   "cell_type": "markdown",
   "metadata": {},
   "source": [
    "### Append GolVe features"
   ]
  },
  {
   "cell_type": "code",
   "execution_count": 10,
   "metadata": {
    "collapsed": true
   },
   "outputs": [],
   "source": [
    "train_glove = []\n",
    "for i in range(len(train_words)):\n",
    "    train_glove.append(np.concatenate((train_words[i], get_glove_vector(g_dict, c_train_words[i]))))\n",
    "train_glove = np.array(train_glove, dtype=np.float32)\n",
    "\n",
    "testa_glove = []\n",
    "for i in range(len(testa_words)):\n",
    "    testa_glove.append(np.concatenate((testa_words[i], get_glove_vector(g_dict, c_testa_words[i]))))\n",
    "testa_glove = np.array(testa_glove, dtype=np.float32)\n",
    "\n",
    "testb_glove = []\n",
    "for i in range(len(testb_words)):\n",
    "    testb_glove.append(np.concatenate((testb_words[i], get_glove_vector(g_dict, c_testb_words[i]))))\n",
    "testb_glove = np.array(testb_glove, dtype=np.float32)\n",
    "\n",
    "testc_glove = []\n",
    "for i in range(len(testc_words)):\n",
    "    testc_glove.append(np.concatenate((testc_words[i], get_glove_vector(g_dict, c_testc_words[i]))))\n",
    "testc_glove = np.array(testc_glove, dtype=np.float32)"
   ]
  },
  {
   "cell_type": "markdown",
   "metadata": {},
   "source": [
    "### One-Hot encode entities for training and test data"
   ]
  },
  {
   "cell_type": "code",
   "execution_count": 11,
   "metadata": {
    "collapsed": true
   },
   "outputs": [],
   "source": [
    "# one-hot formatting: [PER LOC ORG MISC O]\n",
    "train_entities = one_hot_encode(c_train_entity)\n",
    "testa_entities = one_hot_encode(c_testa_entity)\n",
    "testb_entities = one_hot_encode(c_testb_entity)\n",
    "testc_entities = one_hot_encode(c_testc_entity)"
   ]
  },
  {
   "cell_type": "markdown",
   "metadata": {},
   "source": [
    "### Train Bi-LSTM model using Keras"
   ]
  },
  {
   "cell_type": "code",
   "execution_count": 12,
   "metadata": {},
   "outputs": [
    {
     "name": "stdout",
     "output_type": "stream",
     "text": [
      "Train on 203621 samples, validate on 51362 samples\n",
      "Epoch 1/60\n",
      "203621/203621 [==============================] - 134s 660us/step - loss: 0.5314 - acc: 0.8360 - val_loss: 0.3434 - val_acc: 0.8648\n",
      "Epoch 2/60\n",
      "203621/203621 [==============================] - 131s 645us/step - loss: 0.3289 - acc: 0.8660 - val_loss: 0.3027 - val_acc: 0.8797\n",
      "Epoch 3/60\n",
      "203621/203621 [==============================] - 131s 643us/step - loss: 0.2902 - acc: 0.8873 - val_loss: 0.2562 - val_acc: 0.9132\n",
      "Epoch 4/60\n",
      "203621/203621 [==============================] - 131s 645us/step - loss: 0.2620 - acc: 0.9048 - val_loss: 0.2345 - val_acc: 0.9202\n",
      "Epoch 5/60\n",
      "203621/203621 [==============================] - 131s 646us/step - loss: 0.2218 - acc: 0.9250 - val_loss: 0.1935 - val_acc: 0.9406\n",
      "Epoch 6/60\n",
      "203621/203621 [==============================] - 132s 646us/step - loss: 0.1870 - acc: 0.9398 - val_loss: 0.1802 - val_acc: 0.9430\n",
      "Epoch 7/60\n",
      "203621/203621 [==============================] - 132s 647us/step - loss: 0.1637 - acc: 0.9482 - val_loss: 0.1707 - val_acc: 0.9480\n",
      "Epoch 8/60\n",
      "203621/203621 [==============================] - 132s 648us/step - loss: 0.1495 - acc: 0.9531 - val_loss: 0.1627 - val_acc: 0.9505\n",
      "Epoch 9/60\n",
      "203621/203621 [==============================] - 132s 649us/step - loss: 0.1351 - acc: 0.9582 - val_loss: 0.1584 - val_acc: 0.9526\n",
      "Epoch 10/60\n",
      "203621/203621 [==============================] - 132s 648us/step - loss: 0.1245 - acc: 0.9616 - val_loss: 0.1521 - val_acc: 0.9551\n",
      "Epoch 11/60\n",
      "203621/203621 [==============================] - 132s 649us/step - loss: 0.1156 - acc: 0.9648 - val_loss: 0.1540 - val_acc: 0.9541\n",
      "Epoch 12/60\n",
      "203621/203621 [==============================] - 132s 649us/step - loss: 0.1079 - acc: 0.9666 - val_loss: 0.1473 - val_acc: 0.9573\n",
      "Epoch 13/60\n",
      "203621/203621 [==============================] - 132s 649us/step - loss: 0.1014 - acc: 0.9690 - val_loss: 0.1509 - val_acc: 0.9578\n",
      "Epoch 14/60\n",
      "203621/203621 [==============================] - 132s 650us/step - loss: 0.0971 - acc: 0.9702 - val_loss: 0.1467 - val_acc: 0.9594\n",
      "Epoch 15/60\n",
      "203621/203621 [==============================] - 132s 650us/step - loss: 0.0932 - acc: 0.9711 - val_loss: 0.1512 - val_acc: 0.9567\n",
      "Epoch 16/60\n",
      "203621/203621 [==============================] - 132s 650us/step - loss: 0.0881 - acc: 0.9728 - val_loss: 0.1452 - val_acc: 0.9600\n",
      "Epoch 17/60\n",
      "203621/203621 [==============================] - 132s 649us/step - loss: 0.0861 - acc: 0.9732 - val_loss: 0.1467 - val_acc: 0.9594\n",
      "Epoch 18/60\n",
      "203621/203621 [==============================] - 132s 649us/step - loss: 0.0822 - acc: 0.9743 - val_loss: 0.1548 - val_acc: 0.9579\n",
      "Epoch 19/60\n",
      "203621/203621 [==============================] - 132s 649us/step - loss: 0.0811 - acc: 0.9747 - val_loss: 0.1518 - val_acc: 0.9592\n",
      "Epoch 20/60\n",
      "203621/203621 [==============================] - 132s 649us/step - loss: 0.0784 - acc: 0.9753 - val_loss: 0.1571 - val_acc: 0.9581\n",
      "Epoch 21/60\n",
      "203621/203621 [==============================] - 132s 649us/step - loss: 0.0763 - acc: 0.9759 - val_loss: 0.1504 - val_acc: 0.9609\n",
      "Epoch 22/60\n",
      "203621/203621 [==============================] - 132s 649us/step - loss: 0.0731 - acc: 0.9768 - val_loss: 0.1440 - val_acc: 0.9622\n",
      "Epoch 23/60\n",
      "203621/203621 [==============================] - 132s 649us/step - loss: 0.0720 - acc: 0.9770 - val_loss: 0.1523 - val_acc: 0.9615\n",
      "Epoch 24/60\n",
      "203621/203621 [==============================] - 132s 649us/step - loss: 0.0720 - acc: 0.9770 - val_loss: 0.1585 - val_acc: 0.9593\n",
      "Epoch 25/60\n",
      "203621/203621 [==============================] - 132s 649us/step - loss: 0.0704 - acc: 0.9774 - val_loss: 0.1520 - val_acc: 0.9615\n",
      "Epoch 26/60\n",
      "203621/203621 [==============================] - 132s 650us/step - loss: 0.0696 - acc: 0.9776 - val_loss: 0.1510 - val_acc: 0.9611\n",
      "Epoch 27/60\n",
      "203621/203621 [==============================] - 132s 649us/step - loss: 0.0688 - acc: 0.9775 - val_loss: 0.1606 - val_acc: 0.9611\n",
      "Epoch 28/60\n",
      "203621/203621 [==============================] - 132s 649us/step - loss: 0.0668 - acc: 0.9783 - val_loss: 0.1611 - val_acc: 0.9600\n",
      "Epoch 29/60\n",
      "203621/203621 [==============================] - 132s 650us/step - loss: 0.0651 - acc: 0.9784 - val_loss: 0.1535 - val_acc: 0.9605\n",
      "Epoch 30/60\n",
      "203621/203621 [==============================] - 132s 649us/step - loss: 0.0660 - acc: 0.9783 - val_loss: 0.1589 - val_acc: 0.9611\n",
      "Epoch 31/60\n",
      "203621/203621 [==============================] - 132s 648us/step - loss: 0.0633 - acc: 0.9792 - val_loss: 0.1606 - val_acc: 0.9612\n",
      "Epoch 32/60\n",
      "203621/203621 [==============================] - 132s 649us/step - loss: 0.0638 - acc: 0.9788 - val_loss: 0.1642 - val_acc: 0.9610\n",
      "Epoch 33/60\n",
      "203621/203621 [==============================] - 132s 648us/step - loss: 0.0637 - acc: 0.9790 - val_loss: 0.1642 - val_acc: 0.9601\n",
      "Epoch 34/60\n",
      "203621/203621 [==============================] - 132s 649us/step - loss: 0.0630 - acc: 0.9792 - val_loss: 0.1658 - val_acc: 0.9629\n",
      "Epoch 35/60\n",
      "203621/203621 [==============================] - 132s 651us/step - loss: 0.0632 - acc: 0.9791 - val_loss: 0.1706 - val_acc: 0.9612\n",
      "Epoch 36/60\n",
      "203621/203621 [==============================] - 132s 649us/step - loss: 0.0627 - acc: 0.9792 - val_loss: 0.1636 - val_acc: 0.9620\n",
      "Epoch 37/60\n",
      "203621/203621 [==============================] - 132s 649us/step - loss: 0.0619 - acc: 0.9792 - val_loss: 0.1633 - val_acc: 0.9614\n",
      "Epoch 38/60\n",
      "203621/203621 [==============================] - 132s 649us/step - loss: 0.0610 - acc: 0.9794 - val_loss: 0.1754 - val_acc: 0.9619\n",
      "Epoch 39/60\n",
      "203621/203621 [==============================] - 132s 649us/step - loss: 0.0606 - acc: 0.9799 - val_loss: 0.1749 - val_acc: 0.9611\n",
      "Epoch 40/60\n",
      "203621/203621 [==============================] - 132s 650us/step - loss: 0.0587 - acc: 0.9801 - val_loss: 0.1802 - val_acc: 0.9627\n",
      "Epoch 41/60\n",
      "203621/203621 [==============================] - 132s 649us/step - loss: 0.0595 - acc: 0.9796 - val_loss: 0.1682 - val_acc: 0.9602\n",
      "Epoch 42/60\n",
      "203621/203621 [==============================] - 132s 647us/step - loss: 0.0623 - acc: 0.9792 - val_loss: 0.1813 - val_acc: 0.9612\n",
      "Epoch 43/60\n",
      "203621/203621 [==============================] - 131s 644us/step - loss: 0.0582 - acc: 0.9804 - val_loss: 0.1765 - val_acc: 0.9609\n",
      "Epoch 44/60\n",
      "203621/203621 [==============================] - 131s 644us/step - loss: 0.0608 - acc: 0.9795 - val_loss: 0.1722 - val_acc: 0.9629\n",
      "Epoch 45/60\n",
      "203621/203621 [==============================] - 132s 646us/step - loss: 0.0617 - acc: 0.9790 - val_loss: 0.1680 - val_acc: 0.9619\n",
      "Epoch 46/60\n",
      "203621/203621 [==============================] - 131s 643us/step - loss: 0.0580 - acc: 0.9802 - val_loss: 0.1737 - val_acc: 0.9626\n",
      "Epoch 47/60\n",
      "203621/203621 [==============================] - 131s 644us/step - loss: 0.0573 - acc: 0.9804 - val_loss: 0.1692 - val_acc: 0.9616\n",
      "Epoch 48/60\n",
      "203621/203621 [==============================] - 131s 644us/step - loss: 0.0602 - acc: 0.9796 - val_loss: 0.1660 - val_acc: 0.9625\n",
      "Epoch 49/60\n",
      "203621/203621 [==============================] - 131s 644us/step - loss: 0.0584 - acc: 0.9800 - val_loss: 0.1796 - val_acc: 0.9620\n",
      "Epoch 50/60\n",
      "203621/203621 [==============================] - 131s 644us/step - loss: 0.0563 - acc: 0.9808 - val_loss: 0.1829 - val_acc: 0.9611\n",
      "Epoch 51/60\n",
      "203621/203621 [==============================] - 131s 643us/step - loss: 0.0594 - acc: 0.9798 - val_loss: 0.1785 - val_acc: 0.9604\n",
      "Epoch 52/60\n",
      "203621/203621 [==============================] - 131s 644us/step - loss: 0.0577 - acc: 0.9803 - val_loss: 0.1752 - val_acc: 0.9620\n",
      "Epoch 53/60\n",
      "203621/203621 [==============================] - 131s 644us/step - loss: 0.0581 - acc: 0.9801 - val_loss: 0.1754 - val_acc: 0.9615\n",
      "Epoch 54/60\n",
      "203621/203621 [==============================] - 131s 645us/step - loss: 0.0572 - acc: 0.9802 - val_loss: 0.1839 - val_acc: 0.9619\n",
      "Epoch 55/60\n",
      "203621/203621 [==============================] - 131s 644us/step - loss: 0.0560 - acc: 0.9806 - val_loss: 0.1810 - val_acc: 0.9610\n",
      "Epoch 56/60\n",
      "203621/203621 [==============================] - 131s 644us/step - loss: 0.0569 - acc: 0.9802 - val_loss: 0.1861 - val_acc: 0.9612\n",
      "Epoch 57/60\n",
      "203621/203621 [==============================] - 131s 644us/step - loss: 0.0564 - acc: 0.9804 - val_loss: 0.1796 - val_acc: 0.9631\n"
     ]
    },
    {
     "name": "stdout",
     "output_type": "stream",
     "text": [
      "Epoch 58/60\n",
      "203621/203621 [==============================] - 132s 647us/step - loss: 0.0576 - acc: 0.9803 - val_loss: 0.1830 - val_acc: 0.9620\n",
      "Epoch 59/60\n",
      "203621/203621 [==============================] - 131s 645us/step - loss: 0.0578 - acc: 0.9801 - val_loss: 0.1776 - val_acc: 0.9613\n",
      "Epoch 60/60\n",
      "203621/203621 [==============================] - 131s 645us/step - loss: 0.0561 - acc: 0.9807 - val_loss: 0.1858 - val_acc: 0.9600\n"
     ]
    }
   ],
   "source": [
    "model = Sequential()\n",
    "model.add(Embedding(max_features, 480, input_length=maxlen + glove_len))\n",
    "model.add(Bidirectional(CuDNNLSTM(240, return_sequences = True)))\n",
    "model.add(Bidirectional(CuDNNLSTM(160, return_sequences = True)))\n",
    "model.add(Bidirectional(CuDNNLSTM(80)))\n",
    "model.add(Dropout(drop_out))\n",
    "model.add(Dense(5, activation='softmax'))\n",
    "model.compile('adam', 'categorical_crossentropy', metrics=['accuracy'])\n",
    "\n",
    "history = model.fit(train_glove, train_entities,\n",
    "          batch_size=batch_size,\n",
    "          epochs=epochs,\n",
    "          validation_data=[testa_glove, testa_entities],\n",
    "          verbose=1)"
   ]
  },
  {
   "cell_type": "markdown",
   "metadata": {},
   "source": [
    "### Plot accuracy and loss"
   ]
  },
  {
   "cell_type": "code",
   "execution_count": 13,
   "metadata": {},
   "outputs": [
    {
     "data": {
      "image/png": "[encoded data removed]",
      "text/plain": [
       "<matplotlib.figure.Figure at 0x7f831540db00>"
      ]
     },
     "metadata": {},
     "output_type": "display_data"
    }
   ],
   "source": [
    "plt.plot(history.history['acc'])\n",
    "plt.plot(history.history['val_acc'])\n",
    "plt.title('Bi-LSTM Accuracy')\n",
    "plt.ylabel('Accuracy')\n",
    "plt.xlabel('Epochs')\n",
    "#plt.xticks(range(epochs))\n",
    "plt.legend(['train', 'Testa'], loc='upper left')\n",
    "plt.show()"
   ]
  },
  {
   "cell_type": "code",
   "execution_count": 14,
   "metadata": {},
   "outputs": [
    {
     "data": {
      "image/png": "[encoded data removed]",
      "text/plain": [
       "<matplotlib.figure.Figure at 0x7f8300428e10>"
      ]
     },
     "metadata": {},
     "output_type": "display_data"
    }
   ],
   "source": [
    "plt.plot(history.history['loss'])\n",
    "plt.plot(history.history['val_loss'])\n",
    "plt.title('Bi-LSTM Loss')\n",
    "plt.ylabel('Loss')\n",
    "plt.xlabel('Epochs')\n",
    "#plt.xticks(range(epochs))\n",
    "plt.legend(['Train', 'Testa'], loc='upper right')\n",
    "plt.show()"
   ]
  },
  {
   "cell_type": "markdown",
   "metadata": {
    "collapsed": true
   },
   "source": [
    "### Predict test entities using trained model\n",
    "\n",
    "#### Evaluation for testa"
   ]
  },
  {
   "cell_type": "code",
   "execution_count": 15,
   "metadata": {},
   "outputs": [
    {
     "name": "stdout",
     "output_type": "stream",
     "text": [
      "accuracy = 49310 / 51362 = 0.960048\n"
     ]
    }
   ],
   "source": [
    "testa_pred = one_hot_decode(model.predict(testa_glove))\n",
    "accuracy(c_testa_entity, testa_pred)"
   ]
  },
  {
   "cell_type": "code",
   "execution_count": 16,
   "metadata": {},
   "outputs": [
    {
     "data": {
      "text/plain": [
       "(array([0.81217309, 0.84267631, 0.99122234, 0.65916955, 0.89384359]),\n",
       " array([0.8156638 , 0.73501577, 0.99300732, 0.72848948, 0.8529692 ]),\n",
       " array([0.8139147 , 0.7851727 , 0.99211403, 0.69209809, 0.87292818]),\n",
       " array([ 2094,  1268, 42759,  2092,  3149]))"
      ]
     },
     "execution_count": 16,
     "metadata": {},
     "output_type": "execute_result"
    }
   ],
   "source": [
    "precision_recall_fscore_support(c_testa_entity, testa_pred)"
   ]
  },
  {
   "cell_type": "code",
   "execution_count": 17,
   "metadata": {},
   "outputs": [
    {
     "name": "stdout",
     "output_type": "stream",
     "text": [
      "ORG: 2092\n",
      "PER: 3149\n",
      "LOC: 2094\n",
      "MISC: 1268\n",
      "O: 42759\n"
     ]
    }
   ],
   "source": [
    "entity_count(c_testa_entity)"
   ]
  },
  {
   "cell_type": "markdown",
   "metadata": {},
   "source": [
    "#### Evaluation for testb"
   ]
  },
  {
   "cell_type": "code",
   "execution_count": 18,
   "metadata": {},
   "outputs": [
    {
     "name": "stdout",
     "output_type": "stream",
     "text": [
      "accuracy = 43806 / 46435 = 0.943383\n"
     ]
    }
   ],
   "source": [
    "testb_pred = one_hot_decode(model.predict(testb_glove))\n",
    "accuracy(c_testb_entity, testb_pred)"
   ]
  },
  {
   "cell_type": "code",
   "execution_count": 19,
   "metadata": {},
   "outputs": [
    {
     "data": {
      "text/plain": [
       "(array([0.74375306, 0.71047009, 0.98955737, 0.63579103, 0.82842026]),\n",
       " array([0.78857143, 0.72440087, 0.98413485, 0.6875    , 0.79047962]),\n",
       " array([0.76550681, 0.71736785, 0.98683866, 0.66063523, 0.80900535]),\n",
       " array([ 1925,   918, 38323,  2496,  2773]))"
      ]
     },
     "execution_count": 19,
     "metadata": {},
     "output_type": "execute_result"
    }
   ],
   "source": [
    "precision_recall_fscore_support(c_testb_entity, testb_pred)"
   ]
  },
  {
   "cell_type": "code",
   "execution_count": 20,
   "metadata": {},
   "outputs": [
    {
     "name": "stdout",
     "output_type": "stream",
     "text": [
      "ORG: 2496\n",
      "PER: 2773\n",
      "LOC: 1925\n",
      "MISC: 918\n",
      "O: 38323\n"
     ]
    }
   ],
   "source": [
    "entity_count(c_testb_entity)"
   ]
  },
  {
   "cell_type": "markdown",
   "metadata": {},
   "source": [
    "#### Evaluation for testc"
   ]
  },
  {
   "cell_type": "code",
   "execution_count": 21,
   "metadata": {},
   "outputs": [
    {
     "name": "stdout",
     "output_type": "stream",
     "text": [
      "accuracy = 34 / 35 = 0.971429\n"
     ]
    }
   ],
   "source": [
    "testc_pred = one_hot_decode(model.predict(testc_glove))\n",
    "accuracy(c_testc_entity, testc_pred)"
   ]
  },
  {
   "cell_type": "code",
   "execution_count": 22,
   "metadata": {},
   "outputs": [
    {
     "name": "stderr",
     "output_type": "stream",
     "text": [
      "/home/ow/miniconda3/envs/datamgt/lib/python3.6/site-packages/sklearn/metrics/classification.py:1137: UndefinedMetricWarning: Recall and F-score are ill-defined and being set to 0.0 in labels with no true samples.\n",
      "  'recall', 'true', average, warn_for)\n"
     ]
    },
    {
     "data": {
      "text/plain": [
       "(array([0., 1., 1., 1., 1.]),\n",
       " array([0. , 0.5, 1. , 1. , 1. ]),\n",
       " array([0.        , 0.66666667, 1.        , 1.        , 1.        ]),\n",
       " array([ 0,  2, 29,  2,  2]))"
      ]
     },
     "execution_count": 22,
     "metadata": {},
     "output_type": "execute_result"
    }
   ],
   "source": [
    "precision_recall_fscore_support(c_testc_entity, testc_pred)"
   ]
  },
  {
   "cell_type": "code",
   "execution_count": 23,
   "metadata": {},
   "outputs": [
    {
     "name": "stdout",
     "output_type": "stream",
     "text": [
      "ORG: 2\n",
      "PER: 2\n",
      "LOC: 0\n",
      "MISC: 2\n",
      "O: 29\n"
     ]
    }
   ],
   "source": [
    "entity_count(c_testc_entity)"
   ]
  },
  {
   "cell_type": "raw",
   "metadata": {
    "collapsed": true
   },
   "source": []
  }
 ],
 "metadata": {
  "kernelspec": {
   "display_name": "Python 3",
   "language": "python",
   "name": "python3"
  },
  "language_info": {
   "codemirror_mode": {
    "name": "ipython",
    "version": 3
   },
   "file_extension": ".py",
   "mimetype": "text/x-python",
   "name": "python",
   "nbconvert_exporter": "python",
   "pygments_lexer": "ipython3",
   "version": "3.6.2"
  }
 },
 "nbformat": 4,
 "nbformat_minor": 2
}
