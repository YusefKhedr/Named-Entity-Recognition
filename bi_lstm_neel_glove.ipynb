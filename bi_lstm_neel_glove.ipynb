{
 "cells": [
  {
   "cell_type": "markdown",
   "metadata": {},
   "source": [
    "# Bi-LSTM for NEEL Dataset (with GloVe)\n",
    "\n",
    "### Author: Omer Waseem\n",
    "#### Description: This Python notebook trains and evaluates a Bi-LSTM on the NEEL dataset using GloVe features"
   ]
  },
  {
   "cell_type": "code",
   "execution_count": 1,
   "metadata": {},
   "outputs": [
    {
     "name": "stderr",
     "output_type": "stream",
     "text": [
      "/home/ow/miniconda3/envs/datamgt/lib/python3.6/site-packages/h5py/__init__.py:36: FutureWarning: Conversion of the second argument of issubdtype from `float` to `np.floating` is deprecated. In future, it will be treated as `np.float64 == np.dtype(float).type`.\n",
      "  from ._conv import register_converters as _register_converters\n",
      "Using TensorFlow backend.\n"
     ]
    }
   ],
   "source": [
    "from dataprep import conll_words, neel_words\n",
    "from helper import load_glove_dict, get_glove_vector, accuracy, entity_count, one_hot_encode, one_hot_decode\n",
    "from sklearn.metrics import precision_recall_fscore_support\n",
    "import numpy as np\n",
    "from time import time\n",
    "import matplotlib.pyplot as plt\n",
    "%matplotlib inline\n",
    "\n",
    "from keras.preprocessing import sequence\n",
    "from keras.models import Sequential\n",
    "from keras.layers import Dense, Dropout, Embedding, CuDNNLSTM, Bidirectional\n",
    "from keras.callbacks import TensorBoard"
   ]
  },
  {
   "cell_type": "markdown",
   "metadata": {},
   "source": [
    "### Load GloVe features"
   ]
  },
  {
   "cell_type": "code",
   "execution_count": 2,
   "metadata": {
    "collapsed": true
   },
   "outputs": [],
   "source": [
    "g_file = '../glove/glove.twitter.27B.50d.txt'\n",
    "g_dict = load_glove_dict(g_file)"
   ]
  },
  {
   "cell_type": "markdown",
   "metadata": {},
   "source": [
    "### Load all data (training and test) to create a vocabulary dictionary"
   ]
  },
  {
   "cell_type": "code",
   "execution_count": 3,
   "metadata": {
    "collapsed": true
   },
   "outputs": [],
   "source": [
    "n_train_gs_file = './datasets/NEEL2006/training_neel.gs'\n",
    "n_train_tsv_file = './datasets/NEEL2006/training.tsv'\n",
    "n_test_gs_file = './datasets/NEEL2006/test_neel.gs'\n",
    "n_test_tsv_file = './datasets/NEEL2006/test.tsv'\n",
    "\n",
    "n_train_words, n_train_entity, n_train_errors = neel_words(n_train_gs_file, n_train_tsv_file)\n",
    "n_test_words, n_test_entity, n_test_errors = neel_words(n_test_gs_file, n_test_tsv_file)"
   ]
  },
  {
   "cell_type": "code",
   "execution_count": 4,
   "metadata": {
    "collapsed": true
   },
   "outputs": [],
   "source": [
    "combined_words = n_train_words + n_test_words"
   ]
  },
  {
   "cell_type": "code",
   "execution_count": 5,
   "metadata": {},
   "outputs": [
    {
     "name": "stdout",
     "output_type": "stream",
     "text": [
      "69390\n",
      "5408\n",
      "74798\n"
     ]
    }
   ],
   "source": [
    "print(len(n_train_words))\n",
    "print(len(n_test_words))\n",
    "print(len(combined_words))"
   ]
  },
  {
   "cell_type": "markdown",
   "metadata": {},
   "source": [
    "### Create char set, char dictionary and find length of maximum word for padding"
   ]
  },
  {
   "cell_type": "code",
   "execution_count": 6,
   "metadata": {},
   "outputs": [
    {
     "name": "stdout",
     "output_type": "stream",
     "text": [
      "Maximum word length: 82\n"
     ]
    }
   ],
   "source": [
    "char_set = set()\n",
    "char_dict = {}\n",
    "max_word_len = 0\n",
    "for word in combined_words:\n",
    "    if len(word) > max_word_len:\n",
    "        max_word_len = len(word)\n",
    "    for char in word:\n",
    "        char_set.add(char)\n",
    "\n",
    "for i, char in enumerate(char_set):\n",
    "    char_dict[char] = int(i) + 1 # index 0 should not be used in vocab, since its used for masking\n",
    "\n",
    "# ensure index 0 is not used\n",
    "for key in char_dict.keys():\n",
    "    if char_dict[key] == 0:\n",
    "        raise KeyError('Error: index 0 is used with key: ', key)\n",
    "\n",
    "print('Maximum word length:', max_word_len)"
   ]
  },
  {
   "cell_type": "markdown",
   "metadata": {},
   "source": [
    "### Define hyperparameters"
   ]
  },
  {
   "cell_type": "code",
   "execution_count": 7,
   "metadata": {
    "collapsed": true
   },
   "outputs": [],
   "source": [
    "max_features = len(char_set) + 1\n",
    "maxlen = 90\n",
    "glove_len = 50\n",
    "batch_size = 128\n",
    "epochs = 10\n",
    "drop_out = 0.5"
   ]
  },
  {
   "cell_type": "markdown",
   "metadata": {},
   "source": [
    "### Convert training and test words into padded int vectors using char dictionary"
   ]
  },
  {
   "cell_type": "code",
   "execution_count": 8,
   "metadata": {
    "collapsed": true
   },
   "outputs": [],
   "source": [
    "def word2vec(words):\n",
    "    out = []\n",
    "    for word in words:\n",
    "        temp = []\n",
    "        for char in word:\n",
    "            temp.append(char_dict[char])\n",
    "        out.append(temp)\n",
    "    return np.array(out)"
   ]
  },
  {
   "cell_type": "code",
   "execution_count": 9,
   "metadata": {
    "collapsed": true
   },
   "outputs": [],
   "source": [
    "train_words = sequence.pad_sequences(word2vec(n_train_words), maxlen=maxlen)\n",
    "test_words = sequence.pad_sequences(word2vec(n_test_words), maxlen=maxlen)"
   ]
  },
  {
   "cell_type": "markdown",
   "metadata": {},
   "source": [
    "### Append GolVe features"
   ]
  },
  {
   "cell_type": "code",
   "execution_count": 10,
   "metadata": {
    "collapsed": true
   },
   "outputs": [],
   "source": [
    "train_glove = []\n",
    "for i in range(len(train_words)):\n",
    "    train_glove.append(np.concatenate((train_words[i], get_glove_vector(g_dict, n_train_words[i]))))\n",
    "train_glove = np.array(train_glove, dtype=np.float32)\n",
    "\n",
    "test_glove = []\n",
    "for i in range(len(test_words)):\n",
    "    test_glove.append(np.concatenate((test_words[i], get_glove_vector(g_dict, n_test_words[i]))))\n",
    "test_glove = np.array(test_glove, dtype=np.float32)"
   ]
  },
  {
   "cell_type": "markdown",
   "metadata": {},
   "source": [
    "### One-Hot encode entities for training and test data"
   ]
  },
  {
   "cell_type": "code",
   "execution_count": 11,
   "metadata": {
    "collapsed": true
   },
   "outputs": [],
   "source": [
    "# one-hot formatting: [PER LOC ORG MISC O]\n",
    "train_entities = one_hot_encode(n_train_entity)\n",
    "test_entities = one_hot_encode(n_test_entity)"
   ]
  },
  {
   "cell_type": "markdown",
   "metadata": {},
   "source": [
    "### Train Bi-LSTM model using Keras"
   ]
  },
  {
   "cell_type": "code",
   "execution_count": 12,
   "metadata": {},
   "outputs": [
    {
     "name": "stdout",
     "output_type": "stream",
     "text": [
      "Train on 69390 samples, validate on 5408 samples\n",
      "Epoch 1/10\n",
      "69390/69390 [==============================] - 46s 661us/step - loss: 0.5961 - acc: 0.8597 - val_loss: 0.7877 - val_acc: 0.8064\n",
      "Epoch 2/10\n",
      "69390/69390 [==============================] - 43s 619us/step - loss: 0.4887 - acc: 0.8651 - val_loss: 0.5454 - val_acc: 0.8214\n",
      "Epoch 3/10\n",
      "69390/69390 [==============================] - 43s 621us/step - loss: 0.3687 - acc: 0.8788 - val_loss: 0.5373 - val_acc: 0.8293\n",
      "Epoch 4/10\n",
      "69390/69390 [==============================] - 43s 621us/step - loss: 0.3393 - acc: 0.8897 - val_loss: 0.4851 - val_acc: 0.8554\n",
      "Epoch 5/10\n",
      "69390/69390 [==============================] - 43s 622us/step - loss: 0.3168 - acc: 0.8983 - val_loss: 0.4569 - val_acc: 0.8558\n",
      "Epoch 6/10\n",
      "69390/69390 [==============================] - 43s 622us/step - loss: 0.2977 - acc: 0.9051 - val_loss: 0.4653 - val_acc: 0.8327\n",
      "Epoch 7/10\n",
      "69390/69390 [==============================] - 43s 624us/step - loss: 0.2823 - acc: 0.9102 - val_loss: 0.4275 - val_acc: 0.8737\n",
      "Epoch 8/10\n",
      "69390/69390 [==============================] - 43s 621us/step - loss: 0.2682 - acc: 0.9150 - val_loss: 0.5028 - val_acc: 0.8617\n",
      "Epoch 9/10\n",
      "69390/69390 [==============================] - 43s 621us/step - loss: 0.2544 - acc: 0.9201 - val_loss: 0.4365 - val_acc: 0.8713\n",
      "Epoch 10/10\n",
      "69390/69390 [==============================] - 43s 622us/step - loss: 0.2407 - acc: 0.9242 - val_loss: 0.4338 - val_acc: 0.8737\n"
     ]
    }
   ],
   "source": [
    "model = Sequential()\n",
    "model.add(Embedding(max_features, 480, input_length=maxlen + glove_len))\n",
    "model.add(Dropout(drop_out))\n",
    "model.add(Bidirectional(CuDNNLSTM(240, return_sequences = True)))\n",
    "model.add(Bidirectional(CuDNNLSTM(80)))\n",
    "model.add(Dense(5, activation='softmax'))\n",
    "model.compile('adam', 'categorical_crossentropy', metrics=['accuracy'])\n",
    "\n",
    "history = model.fit(train_glove, train_entities,\n",
    "          batch_size=batch_size,\n",
    "          epochs=epochs,\n",
    "          validation_data=[test_glove, test_entities],\n",
    "          verbose=1)"
   ]
  },
  {
   "cell_type": "markdown",
   "metadata": {},
   "source": [
    "### Plot accuracy and loss"
   ]
  },
  {
   "cell_type": "code",
   "execution_count": 13,
   "metadata": {},
   "outputs": [
    {
     "data": {
      "image/png": "[encoded data removed]",
      "text/plain": [
       "<matplotlib.figure.Figure at 0x7fc36fd706d8>"
      ]
     },
     "metadata": {},
     "output_type": "display_data"
    }
   ],
   "source": [
    "plt.plot(history.history['acc'])\n",
    "plt.plot(history.history['val_acc'])\n",
    "plt.title('Bi-LSTM Accuracy')\n",
    "plt.ylabel('Accuracy')\n",
    "plt.xlabel('Epochs')\n",
    "plt.xticks(range(epochs))\n",
    "plt.legend(['train', 'Testa'], loc='upper left')\n",
    "plt.show()"
   ]
  },
  {
   "cell_type": "code",
   "execution_count": 14,
   "metadata": {},
   "outputs": [
    {
     "data": {
      "image/png": "[encoded data removed]",
      "text/plain": [
       "<matplotlib.figure.Figure at 0x7fc3605c0c50>"
      ]
     },
     "metadata": {},
     "output_type": "display_data"
    }
   ],
   "source": [
    "plt.plot(history.history['loss'])\n",
    "plt.plot(history.history['val_loss'])\n",
    "plt.title('Bi-LSTM Loss')\n",
    "plt.ylabel('Loss')\n",
    "plt.xlabel('Epochs')\n",
    "plt.xticks(range(epochs))\n",
    "plt.legend(['Train', 'Testa'], loc='upper right')\n",
    "plt.show()"
   ]
  },
  {
   "cell_type": "markdown",
   "metadata": {
    "collapsed": true
   },
   "source": [
    "### Predict test entities using trained model\n",
    "\n",
    "#### Evaluation for test"
   ]
  },
  {
   "cell_type": "code",
   "execution_count": 15,
   "metadata": {},
   "outputs": [
    {
     "name": "stdout",
     "output_type": "stream",
     "text": [
      "accuracy = 4725 / 5408 = 0.873706\n"
     ]
    }
   ],
   "source": [
    "test_pred = one_hot_decode(model.predict(test_glove))\n",
    "accuracy(n_test_entity, test_pred)"
   ]
  },
  {
   "cell_type": "code",
   "execution_count": 16,
   "metadata": {},
   "outputs": [
    {
     "data": {
      "text/plain": [
       "(array([0.3       , 0.63307494, 0.91186513, 0.45454545, 0.72608696]),\n",
       " array([0.40540541, 0.50619835, 0.97982114, 0.17123288, 0.43947368]),\n",
       " array([0.34482759, 0.56257176, 0.94462253, 0.24875622, 0.54754098]),\n",
       " array([  37,  484, 4361,  146,  380]))"
      ]
     },
     "execution_count": 16,
     "metadata": {},
     "output_type": "execute_result"
    }
   ],
   "source": [
    "precision_recall_fscore_support(n_test_entity, test_pred)"
   ]
  },
  {
   "cell_type": "code",
   "execution_count": 17,
   "metadata": {},
   "outputs": [
    {
     "name": "stdout",
     "output_type": "stream",
     "text": [
      "ORG: 146\n",
      "PER: 380\n",
      "LOC: 37\n",
      "MISC: 484\n",
      "O: 4361\n"
     ]
    }
   ],
   "source": [
    "entity_count(n_test_entity)"
   ]
  },
  {
   "cell_type": "code",
   "execution_count": null,
   "metadata": {
    "collapsed": true
   },
   "outputs": [],
   "source": []
  }
 ],
 "metadata": {
  "kernelspec": {
   "display_name": "Python 3",
   "language": "python",
   "name": "python3"
  },
  "language_info": {
   "codemirror_mode": {
    "name": "ipython",
    "version": 3
   },
   "file_extension": ".py",
   "mimetype": "text/x-python",
   "name": "python",
   "nbconvert_exporter": "python",
   "pygments_lexer": "ipython3",
   "version": "3.6.2"
  }
 },
 "nbformat": 4,
 "nbformat_minor": 2
}
